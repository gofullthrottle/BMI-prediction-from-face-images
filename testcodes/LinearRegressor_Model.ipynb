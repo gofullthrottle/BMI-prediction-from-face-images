{
 "cells": [
  {
   "cell_type": "code",
   "execution_count": 83,
   "metadata": {},
   "outputs": [],
   "source": [
    "\n",
    "\n",
    "# load dataset\n",
    "dataframe = pandas.read_csv(\"fulldataset.csv\", sep=\",\")\n",
    "dataframe.values\n",
    "#data = Dataset.load_from_df(dataframe[['User', 'Track', 'Rating']]\n",
    "# split into input (X) and output (Y) variables\n",
    "X =(dataframe[['CJWR','ES','FW_LFH','LF_FH','MEH','PAR','WHR']])\n",
    "\n",
    "x=numpy.array(X)\n",
    "\n",
    "\n",
    "y=dataframe[[\"bmi\"]]\n",
    "Y=numpy.array(y)\n",
    "\n"
   ]
  },
  {
   "cell_type": "code",
   "execution_count": 80,
   "metadata": {},
   "outputs": [
    {
     "name": "stdout",
     "output_type": "stream",
     "text": [
      "[1.19440032e+00 4.97219468e+01 1.20023618e+00 4.96433330e-01\n",
      " 3.70742872e+01 2.07242849e-02 1.98504253e+00]\n"
     ]
    }
   ],
   "source": [
    "print(x[1])"
   ]
  },
  {
   "cell_type": "code",
   "execution_count": 84,
   "metadata": {},
   "outputs": [],
   "source": [
    "\n",
    "from sklearn.model_selection import train_test_split\n",
    "\n",
    "\n"
   ]
  },
  {
   "cell_type": "code",
   "execution_count": 85,
   "metadata": {},
   "outputs": [
    {
     "data": {
      "text/plain": [
       "True"
      ]
     },
     "execution_count": 85,
     "metadata": {},
     "output_type": "execute_result"
    }
   ],
   "source": [
    "dataframe.isnull().values.any()"
   ]
  },
  {
   "cell_type": "code",
   "execution_count": 86,
   "metadata": {},
   "outputs": [],
   "source": [
    "#Replacing Nan with mean values\n",
    "b=X.apply(lambda X: X.fillna(X.mean()),axis=0)\n"
   ]
  },
  {
   "cell_type": "code",
   "execution_count": 65,
   "metadata": {},
   "outputs": [
    {
     "name": "stdout",
     "output_type": "stream",
     "text": [
      "[[1.53629208e+00 1.87625417e-01 4.38445257e-01 ... 2.29472525e-01\n",
      "  7.19298798e-01 5.84685290e-02]\n",
      " [4.36255872e-01 3.29228953e-01 5.90947254e-01 ... 2.73996625e-01\n",
      "  6.98277847e-01 8.77635468e-02]\n",
      " [3.02094665e+00 3.80941721e-01 1.42462076e+00 ... 9.38652236e-01\n",
      "  8.01774320e-01 2.21263599e-01]\n",
      " ...\n",
      " [7.83709190e-03 8.12104055e-01 9.63293102e-01 ... 7.39754625e-01\n",
      "  1.33801027e+00 8.84079656e-01]\n",
      " [1.80714756e+00 3.88328736e-01 1.84707271e+00 ... 1.46279713e-01\n",
      "  2.48340960e-01 1.49050115e+00]\n",
      " [4.22183757e-15 0.00000000e+00 1.22027681e-15 ... 1.42555408e-16\n",
      "  0.00000000e+00 1.06656447e-15]]\n"
     ]
    }
   ],
   "source": [
    "from scipy import stats\n",
    "#finding Z factor to remove outliers\n",
    "z = np.abs(stats.zscore(b))\n",
    "print(z)"
   ]
  },
  {
   "cell_type": "code",
   "execution_count": 70,
   "metadata": {},
   "outputs": [],
   "source": [
    "#b_o= b[(z < 3).all(axis=1)]\n",
    "#y_o= y[(z < 3).all(axis=1)]"
   ]
  },
  {
   "cell_type": "code",
   "execution_count": 71,
   "metadata": {},
   "outputs": [
    {
     "name": "stdout",
     "output_type": "stream",
     "text": [
      "            bmi\n",
      "0     46.512287\n",
      "1     30.406574\n",
      "4     33.507600\n",
      "6     29.444069\n",
      "7     24.683793\n",
      "8     27.703134\n",
      "9     23.053627\n",
      "10    39.539715\n",
      "11    39.797297\n",
      "12    37.550013\n",
      "14    30.512153\n",
      "15    26.995200\n",
      "16    22.671325\n",
      "17    62.409184\n",
      "18    47.885010\n",
      "19    34.256669\n",
      "20    26.946045\n",
      "21    32.383002\n",
      "22    26.443866\n",
      "23    34.954722\n",
      "24    28.749228\n",
      "25    27.808264\n",
      "26    26.120098\n",
      "27    29.754957\n",
      "28    33.891185\n",
      "29    29.850578\n",
      "30    24.273222\n",
      "31    30.680421\n",
      "32    25.544844\n",
      "33    44.149758\n",
      "...         ...\n",
      "4169  39.934284\n",
      "4170  28.744889\n",
      "4171  29.284734\n",
      "4173  34.384843\n",
      "4174  22.671325\n",
      "4175  40.024003\n",
      "4176  39.151259\n",
      "4177  60.519972\n",
      "4178  40.492800\n",
      "4179  25.932432\n",
      "4180  28.242654\n",
      "4181  25.790533\n",
      "4182  27.891291\n",
      "4183  32.094595\n",
      "4184  26.602783\n",
      "4187  31.420982\n",
      "4188  20.671865\n",
      "4189  29.950296\n",
      "4192  23.717128\n",
      "4193  24.021194\n",
      "4194  27.043535\n",
      "4196  30.116686\n",
      "4197  21.945890\n",
      "4198  29.856520\n",
      "4199  33.051180\n",
      "4201  31.993673\n",
      "4202  37.441690\n",
      "4203  34.815528\n",
      "4204  25.547297\n",
      "4205  78.908163\n",
      "\n",
      "[3917 rows x 1 columns]\n"
     ]
    }
   ],
   "source": [
    "#print(y_o)"
   ]
  },
  {
   "cell_type": "code",
   "execution_count": 87,
   "metadata": {},
   "outputs": [
    {
     "data": {
      "text/plain": [
       "False"
      ]
     },
     "execution_count": 87,
     "metadata": {},
     "output_type": "execute_result"
    }
   ],
   "source": [
    "b.isnull().values.any()"
   ]
  },
  {
   "cell_type": "code",
   "execution_count": 113,
   "metadata": {},
   "outputs": [],
   "source": [
    "b_o_train, b_o_test, y_train, y_test = train_test_split(b,y, test_size=0.2, random_state=4)"
   ]
  },
  {
   "cell_type": "code",
   "execution_count": 114,
   "metadata": {},
   "outputs": [
    {
     "data": {
      "text/plain": [
       "LinearRegression(copy_X=True, fit_intercept=True, n_jobs=2, normalize=False)"
      ]
     },
     "execution_count": 114,
     "metadata": {},
     "output_type": "execute_result"
    }
   ],
   "source": [
    "from sklearn.linear_model import LinearRegression  \n",
    "regressor = LinearRegression(copy_X=True, fit_intercept=True, n_jobs=2,\n",
    "         normalize=False)\n",
    "regressor.fit(b_o_train, y_train)  "
   ]
  },
  {
   "cell_type": "code",
   "execution_count": 115,
   "metadata": {},
   "outputs": [],
   "source": [
    "y_pred = regressor.predict(b_o_test)  "
   ]
  },
  {
   "cell_type": "code",
   "execution_count": 116,
   "metadata": {},
   "outputs": [
    {
     "name": "stdout",
     "output_type": "stream",
     "text": [
      "Test score: 18.72 %\n"
     ]
    }
   ],
   "source": [
    "#importing model to pickle file\n",
    "import pickle\n",
    "\n",
    "#\n",
    "# Create your model here (same as above)\n",
    "#\n",
    "\n",
    "# Save to file in the current working directory\n",
    "pkl_filename = \"pickle_model.pkl\"  \n",
    "with open(pkl_filename, 'wb') as file:  \n",
    "    pickle.dump(regressor, file)\n",
    "\n",
    "# Load from file\n",
    "with open(pkl_filename, 'rb') as file:  \n",
    "    pickle_model = pickle.load(file)\n",
    "\n",
    "# Calculate the accuracy score and predict target values\n",
    "score = pickle_model.score(b_o_train, y_train)  \n",
    "print(\"Test score: {0:.2f} %\".format(100 * score))  \n",
    "Ypredict = pickle_model.predict(b_o_test)  "
   ]
  },
  {
   "cell_type": "code",
   "execution_count": 101,
   "metadata": {},
   "outputs": [
    {
     "name": "stdout",
     "output_type": "stream",
     "text": [
      "('Mean Absolute Error:', 5.921514377382386)\n",
      "('Mean Squared Error:', 59.578487159676286)\n",
      "('Root Mean Squared Error:', 7.718710200524197)\n"
     ]
    }
   ],
   "source": [
    "#Metrics for evaluation\n",
    "from sklearn import metrics  \n",
    "print('Mean Absolute Error:', metrics.mean_absolute_error(y_test, y_pred))  \n",
    "print('Mean Squared Error:', metrics.mean_squared_error(y_test, y_pred))  \n",
    "print('Root Mean Squared Error:', np.sqrt(metrics.mean_squared_error(y_test, Ypredict))) "
   ]
  },
  {
   "cell_type": "code",
   "execution_count": 117,
   "metadata": {},
   "outputs": [],
   "source": [
    "tuple_objects = (regressor, b_o_train, y_train, score)\n",
    "\n",
    "# Save tuple\n",
    "pickle.dump(tuple_objects, open(\"tuple_model.pkl\", 'wb'))\n",
    "\n",
    "# Restore tuple\n",
    "pickled_model, pickled_Xtrain, pickled_Ytrain, pickled_score = pickle.load(open(\"tuple_model.pkl\", 'rb'))  \n",
    "\n",
    "\n"
   ]
  },
  {
   "cell_type": "code",
   "execution_count": null,
   "metadata": {},
   "outputs": [],
   "source": []
  }
 ],
 "metadata": {
  "kernelspec": {
   "display_name": "Python 3",
   "language": "python",
   "name": "python3"
  },
  "language_info": {
   "codemirror_mode": {
    "name": "ipython",
    "version": 2
   },
   "file_extension": ".py",
   "mimetype": "text/x-python",
   "name": "python",
   "nbconvert_exporter": "python",
   "pygments_lexer": "ipython2",
   "version": "2.7.15rc1"
  }
 },
 "nbformat": 4,
 "nbformat_minor": 2
}
