{
 "cells": [
  {
   "cell_type": "code",
   "execution_count": 5,
   "metadata": {},
   "outputs": [
    {
     "data": {
      "image/png": "[encoded data removed]",
      "text/plain": [
       "<matplotlib.figure.Figure at 0x1167079e8>"
      ]
     },
     "metadata": {},
     "output_type": "display_data"
    }
   ],
   "source": [
    "from sklearn import datasets\n",
    "import pandas as pd\n",
    "from sklearn.model_selection import train_test_split\n",
    "from sklearn import svm,metrics\n",
    "import seaborn as sns\n",
    "train = pd.read_csv('Data/fulldataset.csv')\n",
    "df = pd.DataFrame(train)\n",
    "#print(df)\n",
    "df['weight_label']=0\n",
    "df=df.dropna()\n",
    "#print(df)\n",
    "\n",
    "def label_race (row):\n",
    "   if row['bmi']< 18.5 :\n",
    "       \n",
    "       return 'Underweight'\n",
    "   elif row['bmi']>18.5 and row['bmi']<24.9:\n",
    "        return 'Healthy'\n",
    "   elif row['bmi']>25 and row['bmi']<29.9:\n",
    "        return 'Overweight'\n",
    "   else:\n",
    "    return 'Obese'\n",
    "\n",
    "\n",
    "df['weight_label'] = df.apply (lambda row: label_race(row),axis=1)\n",
    "\n",
    "\n",
    "def correlation_matrix(df):\n",
    "    from matplotlib import pyplot as plt\n",
    "    from matplotlib import cm as cm\n",
    "\n",
    "    fig = plt.figure()\n",
    "    ax1 = fig.add_subplot(111)\n",
    "    cmap = cm.get_cmap('jet', 30)\n",
    "    cax = ax1.imshow(df.corr(), interpolation=\"nearest\", cmap=cmap)\n",
    "    ax1.grid(True)\n",
    "    plt.title('Abalone Feature Correlation')\n",
    "    labels=['CJWR','ES','FW_LFH','LF_FH','MEH','PAR','WHR','weight_label']\n",
    "    ax1.set_xticklabels(labels,fontsize=6)\n",
    "    ax1.set_yticklabels(labels,fontsize=6)\n",
    "    # Add colorbar, make sure to specify tick locations to match desired ticklabels\n",
    "    fig.colorbar(cax, ticks=[.75,.8,.85,.90,.95,1])\n",
    "    plt.show()\n",
    "\n",
    "correlation_matrix(df)"
   ]
  },
  {
   "cell_type": "code",
   "execution_count": 6,
   "metadata": {},
   "outputs": [
    {
     "name": "stdout",
     "output_type": "stream",
     "text": [
      "             MEH\n",
      "0      35.964674\n",
      "1      37.074287\n",
      "2      53.638591\n",
      "3      26.537562\n",
      "4      12.183614\n",
      "5     121.153758\n",
      "6      30.074637\n",
      "7      11.264813\n",
      "8       7.523328\n",
      "9      59.167420\n",
      "10     18.414451\n",
      "11     12.727693\n",
      "12     75.167610\n",
      "13      4.751161\n",
      "14     12.682330\n",
      "15     36.245242\n",
      "16     22.663113\n",
      "17      9.389478\n",
      "18     47.557522\n",
      "19      7.838946\n",
      "20     54.195396\n",
      "21     39.604056\n",
      "22     19.619467\n",
      "23     47.842861\n",
      "24     19.244075\n",
      "25     12.281285\n",
      "26     23.834291\n",
      "27     40.942695\n",
      "28     26.611603\n",
      "29     39.568351\n",
      "...          ...\n",
      "4175   28.049008\n",
      "4176   10.128582\n",
      "4177   50.942209\n",
      "4178   35.786573\n",
      "4179   18.434733\n",
      "4180   19.772012\n",
      "4181   86.473449\n",
      "4182   17.024121\n",
      "4183   74.645341\n",
      "4184    6.285921\n",
      "4185    4.103168\n",
      "4186  340.026681\n",
      "4187   18.145063\n",
      "4188   79.883967\n",
      "4189   11.967609\n",
      "4190  107.722870\n",
      "4191   26.078923\n",
      "4192   38.571083\n",
      "4193   23.518297\n",
      "4194   16.045755\n",
      "4195   18.209659\n",
      "4196   23.260305\n",
      "4197   14.220580\n",
      "4198   12.972170\n",
      "4199   39.748583\n",
      "4200   13.421249\n",
      "4201    7.360017\n",
      "4202    7.330909\n",
      "4203   11.809950\n",
      "4204   26.600314\n",
      "\n",
      "[4000 rows x 1 columns]\n"
     ]
    }
   ],
   "source": [
    "X=df[['CJWR','ES','LF_FH','MEH','PAR','WHR']]\n",
    "Y=df[['weight_label']]\n",
    "print(X)\n",
    "\n",
    "X_train, X_test, y_train, y_test = train_test_split(\n",
    "     X, Y, test_size=0.33, random_state=0)\n"
   ]
  },
  {
   "cell_type": "code",
   "execution_count": 7,
   "metadata": {},
   "outputs": [
    {
     "name": "stdout",
     "output_type": "stream",
     "text": [
      "Accuracy: 0.5681818181818182\n"
     ]
    }
   ],
   "source": [
    "#Create a svm Classifier\n",
    "clf = svm.SVC(kernel='linear') # Linear Kernel\n",
    "\n",
    "#Train the model using the training sets\n",
    "clf.fit(X_train, y_train.values.ravel())\n",
    "\n",
    "#Predict the response for test dataset\n",
    "y_pred = clf.predict(X_test)\n",
    "\n",
    "\n",
    "\n",
    "# Model Accuracy: how often is the classifier correct?\n",
    "print(\"Accuracy:\",metrics.accuracy_score(y_test, y_pred))"
   ]
  },
  {
   "cell_type": "code",
   "execution_count": null,
   "metadata": {
    "collapsed": true
   },
   "outputs": [],
   "source": []
  }
 ],
 "metadata": {
  "kernelspec": {
   "display_name": "Python 3",
   "language": "python",
   "name": "python3"
  },
  "language_info": {
   "codemirror_mode": {
    "name": "ipython",
    "version": 3
   },
   "file_extension": ".py",
   "mimetype": "text/x-python",
   "name": "python",
   "nbconvert_exporter": "python",
   "pygments_lexer": "ipython3",
   "version": "3.6.3"
  }
 },
 "nbformat": 4,
 "nbformat_minor": 2
}
