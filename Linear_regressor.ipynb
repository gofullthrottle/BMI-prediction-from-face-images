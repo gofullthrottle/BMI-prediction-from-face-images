{
 "cells": [
  {
   "cell_type": "code",
   "execution_count": 69,
   "metadata": {},
   "outputs": [
    {
     "ename": "ImportError",
     "evalue": "cannot import name 'clf_score'",
     "output_type": "error",
     "traceback": [
      "\u001b[0;31m---------------------------------------------------------------------------\u001b[0m",
      "\u001b[0;31mImportError\u001b[0m                               Traceback (most recent call last)",
      "\u001b[0;32m<ipython-input-69-7b8e7233ccef>\u001b[0m in \u001b[0;36m<module>\u001b[0;34m\u001b[0m\n\u001b[1;32m      2\u001b[0m \u001b[0;32mimport\u001b[0m \u001b[0mnumpy\u001b[0m \u001b[0;32mas\u001b[0m \u001b[0mnp\u001b[0m\u001b[0;34m\u001b[0m\u001b[0m\n\u001b[1;32m      3\u001b[0m \u001b[0;32mfrom\u001b[0m \u001b[0msklearn\u001b[0m\u001b[0;34m.\u001b[0m\u001b[0mmodel_selection\u001b[0m \u001b[0;32mimport\u001b[0m \u001b[0mtrain_test_split\u001b[0m\u001b[0;34m\u001b[0m\u001b[0m\n\u001b[0;32m----> 4\u001b[0;31m \u001b[0;32mfrom\u001b[0m \u001b[0msklearn\u001b[0m\u001b[0;34m.\u001b[0m\u001b[0mmetrics\u001b[0m \u001b[0;32mimport\u001b[0m \u001b[0mmean_squared_error\u001b[0m\u001b[0;34m,\u001b[0m \u001b[0mr2_score\u001b[0m\u001b[0;34m,\u001b[0m \u001b[0maccuracy_score\u001b[0m\u001b[0;34m,\u001b[0m \u001b[0mclf_score\u001b[0m\u001b[0;34m\u001b[0m\u001b[0m\n\u001b[0m\u001b[1;32m      5\u001b[0m \u001b[0;32mfrom\u001b[0m \u001b[0msklearn\u001b[0m\u001b[0;34m.\u001b[0m\u001b[0mlinear_model\u001b[0m \u001b[0;32mimport\u001b[0m \u001b[0mRidge\u001b[0m\u001b[0;34m,\u001b[0m \u001b[0mLasso\u001b[0m\u001b[0;34m\u001b[0m\u001b[0m\n\u001b[1;32m      6\u001b[0m \u001b[0;32mfrom\u001b[0m \u001b[0msklearn\u001b[0m \u001b[0;32mimport\u001b[0m \u001b[0mpreprocessing\u001b[0m\u001b[0;34m\u001b[0m\u001b[0m\n",
      "\u001b[0;31mImportError\u001b[0m: cannot import name 'clf_score'"
     ]
    }
   ],
   "source": [
    "from sklearn import linear_model\n",
    "import numpy as np\n",
    "from sklearn.model_selection import train_test_split\n",
    "from sklearn.metrics import mean_squared_error, r2_score, accuracy_score, clf_score\n",
    "from sklearn.linear_model import Ridge, Lasso\n",
    "from sklearn import preprocessing\n",
    "import pandas as pd\n",
    "import matplotlib.pyplot as plt\n",
    "import seaborn as sns"
   ]
  },
  {
   "cell_type": "code",
   "execution_count": 22,
   "metadata": {},
   "outputs": [
    {
     "data": {
      "text/html": [
       "<div>\n",
       "<style scoped>\n",
       "    .dataframe tbody tr th:only-of-type {\n",
       "        vertical-align: middle;\n",
       "    }\n",
       "\n",
       "    .dataframe tbody tr th {\n",
       "        vertical-align: top;\n",
       "    }\n",
       "\n",
       "    .dataframe thead th {\n",
       "        text-align: right;\n",
       "    }\n",
       "</style>\n",
       "<table border=\"1\" class=\"dataframe\">\n",
       "  <thead>\n",
       "    <tr style=\"text-align: right;\">\n",
       "      <th></th>\n",
       "      <th>Unnamed: 0</th>\n",
       "      <th>Name</th>\n",
       "      <th>gender</th>\n",
       "      <th>CJWR</th>\n",
       "      <th>ES</th>\n",
       "      <th>FW_LFH</th>\n",
       "      <th>LF_FH</th>\n",
       "      <th>MEH</th>\n",
       "      <th>PAR</th>\n",
       "      <th>WHR</th>\n",
       "      <th>bmi</th>\n",
       "    </tr>\n",
       "  </thead>\n",
       "  <tbody>\n",
       "    <tr>\n",
       "      <th>0</th>\n",
       "      <td>0</td>\n",
       "      <td>img_1293.bmp</td>\n",
       "      <td>Male</td>\n",
       "      <td>1.136545</td>\n",
       "      <td>45.174139</td>\n",
       "      <td>1.227986</td>\n",
       "      <td>0.351452</td>\n",
       "      <td>35.964674</td>\n",
       "      <td>0.020189</td>\n",
       "      <td>1.954599</td>\n",
       "      <td>46.512287</td>\n",
       "    </tr>\n",
       "    <tr>\n",
       "      <th>1</th>\n",
       "      <td>1</td>\n",
       "      <td>img_3398.bmp</td>\n",
       "      <td>Female</td>\n",
       "      <td>1.194400</td>\n",
       "      <td>49.721947</td>\n",
       "      <td>1.200236</td>\n",
       "      <td>0.496433</td>\n",
       "      <td>37.074287</td>\n",
       "      <td>0.020724</td>\n",
       "      <td>1.985043</td>\n",
       "      <td>30.406574</td>\n",
       "    </tr>\n",
       "    <tr>\n",
       "      <th>2</th>\n",
       "      <td>2</td>\n",
       "      <td>img_2851.bmp</td>\n",
       "      <td>Female</td>\n",
       "      <td>1.376229</td>\n",
       "      <td>51.382779</td>\n",
       "      <td>1.566994</td>\n",
       "      <td>0.306596</td>\n",
       "      <td>53.638591</td>\n",
       "      <td>0.018087</td>\n",
       "      <td>2.012835</td>\n",
       "      <td>30.948639</td>\n",
       "    </tr>\n",
       "    <tr>\n",
       "      <th>3</th>\n",
       "      <td>3</td>\n",
       "      <td>img_3493.bmp</td>\n",
       "      <td>Female</td>\n",
       "      <td>1.424883</td>\n",
       "      <td>30.694998</td>\n",
       "      <td>1.614011</td>\n",
       "      <td>0.308357</td>\n",
       "      <td>26.537562</td>\n",
       "      <td>0.032693</td>\n",
       "      <td>2.022035</td>\n",
       "      <td>35.870850</td>\n",
       "    </tr>\n",
       "    <tr>\n",
       "      <th>4</th>\n",
       "      <td>4</td>\n",
       "      <td>img_1914.bmp</td>\n",
       "      <td>Male</td>\n",
       "      <td>1.144129</td>\n",
       "      <td>19.556742</td>\n",
       "      <td>1.428383</td>\n",
       "      <td>0.488959</td>\n",
       "      <td>12.183614</td>\n",
       "      <td>0.043385</td>\n",
       "      <td>2.061823</td>\n",
       "      <td>33.507600</td>\n",
       "    </tr>\n",
       "  </tbody>\n",
       "</table>\n",
       "</div>"
      ],
      "text/plain": [
       "   Unnamed: 0          Name  gender      CJWR         ES    FW_LFH     LF_FH  \\\n",
       "0           0  img_1293.bmp    Male  1.136545  45.174139  1.227986  0.351452   \n",
       "1           1  img_3398.bmp  Female  1.194400  49.721947  1.200236  0.496433   \n",
       "2           2  img_2851.bmp  Female  1.376229  51.382779  1.566994  0.306596   \n",
       "3           3  img_3493.bmp  Female  1.424883  30.694998  1.614011  0.308357   \n",
       "4           4  img_1914.bmp    Male  1.144129  19.556742  1.428383  0.488959   \n",
       "\n",
       "         MEH       PAR       WHR        bmi  \n",
       "0  35.964674  0.020189  1.954599  46.512287  \n",
       "1  37.074287  0.020724  1.985043  30.406574  \n",
       "2  53.638591  0.018087  2.012835  30.948639  \n",
       "3  26.537562  0.032693  2.022035  35.870850  \n",
       "4  12.183614  0.043385  2.061823  33.507600  "
      ]
     },
     "execution_count": 22,
     "metadata": {},
     "output_type": "execute_result"
    }
   ],
   "source": [
    "fulldataset = pd.read_csv('./Data/fulldataset.csv')\n",
    "\n",
    "fulldataset =fulldataset.dropna()\n",
    "fulldataset.head()"
   ]
  },
  {
   "cell_type": "code",
   "execution_count": 17,
   "metadata": {},
   "outputs": [],
   "source": [
    "def normalize(data):\n",
    "    dataNorm=((data-data.min())/(data.max()-data.min()))\n",
    "    dataNorm[\"bmi\"]=data[\"bmi\"]\n",
    "    return dataNorm"
   ]
  },
  {
   "cell_type": "code",
   "execution_count": 36,
   "metadata": {},
   "outputs": [
    {
     "data": {
      "text/plain": [
       "<matplotlib.axes._subplots.AxesSubplot at 0x7fa0a866fc50>"
      ]
     },
     "execution_count": 36,
     "metadata": {},
     "output_type": "execute_result"
    },
    {
     "data": {
      "image/png": "[encoded data removed]",
      "text/plain": [
       "<Figure size 432x288 with 1 Axes>"
      ]
     },
     "metadata": {
      "needs_background": "light"
     },
     "output_type": "display_data"
    }
   ],
   "source": [
    "fulldataset.min()\n",
    "Data = fulldataset.drop(columns ={'Unnamed: 0','Name', 'gender'})\n",
    "Data.head()\n",
    "\n",
    "scaleddata= (Data-Data.min())/(Data.max()-Data.min())\n",
    "scaleddata.boxplot()"
   ]
  },
  {
   "cell_type": "code",
   "execution_count": 75,
   "metadata": {},
   "outputs": [
    {
     "data": {
      "text/plain": [
       "['CJWR', 'ES', 'FW_LFH', 'LF_FH', 'MEH', 'PAR', 'WHR', 'bmi']"
      ]
     },
     "execution_count": 75,
     "metadata": {},
     "output_type": "execute_result"
    }
   ],
   "source": [
    "list(Data)"
   ]
  },
  {
   "cell_type": "code",
   "execution_count": 81,
   "metadata": {},
   "outputs": [
    {
     "data": {
      "text/plain": [
       "<matplotlib.axes._subplots.AxesSubplot at 0x7fa0bef74da0>"
      ]
     },
     "execution_count": 81,
     "metadata": {},
     "output_type": "execute_result"
    },
    {
     "data": {
      "image/png": "[encoded data removed]",
      "text/plain": [
       "<Figure size 432x288 with 1 Axes>"
      ]
     },
     "metadata": {
      "needs_background": "light"
     },
     "output_type": "display_data"
    }
   ],
   "source": [
    "Data.boxplot()\n",
    "# sns.boxplot(x = ['CJWR', 'ES', 'FW_LFH', 'LF_FH', 'MEH', 'PAR', 'WHR'], data =Data)"
   ]
  },
  {
   "cell_type": "code",
   "execution_count": 37,
   "metadata": {},
   "outputs": [],
   "source": [
    "# scaleddata['bmi'] = Data['bmi']\n",
    "# scaleddata.boxplot()"
   ]
  },
  {
   "cell_type": "code",
   "execution_count": 93,
   "metadata": {},
   "outputs": [],
   "source": [
    "## Splitting data into two \n",
    "traindata , validationdata = train_test_split(Data, test_size=0.2, random_state=40)\n",
    "\n",
    "traindata.describe()\n",
    "\n",
    "# validationdata.describe()\n",
    "\n",
    "# columns = list(traindata)\n",
    "# columns\n",
    "\n",
    "traindata = traindata.dropna()\n",
    "validationdata = validationdata.dropna()\n",
    "\n",
    "\n",
    "X = Data[['CJWR', 'ES', 'FW_LFH', 'LF_FH', 'MEH', 'PAR', 'WHR']]\n",
    "Y = Data['bmi']\n",
    "X_train = traindata[['CJWR', 'ES', 'FW_LFH', 'LF_FH', 'MEH', 'PAR', 'WHR']]\n",
    "y_train = traindata['bmi']\n",
    "\n",
    "X_test = validationdata[['CJWR', 'ES', 'FW_LFH', 'LF_FH', 'MEH', 'PAR', 'WHR']]\n",
    "y_test = validationdata['bmi']\n"
   ]
  },
  {
   "cell_type": "code",
   "execution_count": 83,
   "metadata": {},
   "outputs": [
    {
     "data": {
      "text/plain": [
       "<matplotlib.axes._subplots.AxesSubplot at 0x7fa0beeea898>"
      ]
     },
     "execution_count": 83,
     "metadata": {},
     "output_type": "execute_result"
    },
    {
     "data": {
      "image/png": "[encoded data removed]",
      "text/plain": [
       "<Figure size 432x288 with 1 Axes>"
      ]
     },
     "metadata": {
      "needs_background": "light"
     },
     "output_type": "display_data"
    }
   ],
   "source": [
    "X_train.boxplot()"
   ]
  },
  {
   "cell_type": "code",
   "execution_count": 87,
   "metadata": {},
   "outputs": [],
   "source": [
    "\n",
    "def calc_train_error(X_train, y_train, model):\n",
    "    '''returns in-sample error for already fit model.'''\n",
    "    predictions = model.predict(X_train)\n",
    "    mse = mean_squared_error(y_train, predictions)\n",
    "    rmse = np.sqrt(mse)\n",
    "    return mse\n",
    "    \n",
    "def calc_validation_error(X_test, y_test, model):\n",
    "    '''returns out-of-sample error for already fit model.'''\n",
    "    predictions = model.predict(X_test)\n",
    "    mse = mean_squared_error(y_test, predictions)\n",
    "    rmse = np.sqrt(mse)\n",
    "    return mse\n",
    "    \n",
    "def calc_metrics(X_train, y_train, X_test, y_test, model):\n",
    "    '''fits model and returns the RMSE for in-sample error and out-of-sample error'''\n",
    "    model.fit(X_train, y_train)\n",
    "    train_error = calc_train_error(X_train, y_train, model)\n",
    "    validation_error = calc_validation_error(X_test, y_test, model)\n",
    "    return train_error, validation_error"
   ]
  },
  {
   "cell_type": "code",
   "execution_count": 106,
   "metadata": {},
   "outputs": [
    {
     "name": "stdout",
     "output_type": "stream",
     "text": [
      "Linear Regression Evaluation\n",
      "train error: 55.437 | test error: 54.282\n",
      "train/test: 1.0\n",
      "--------------------------------------------------------------------------------\n",
      "train: 0.08% | validation: 0.03% | test 0.2%\n",
      "--------------------------------------------------------------------------------\n",
      "All errors are RMSE\n",
      "Ridge regression Evaluation\n",
      "--------------------------------------------------------------------------------\n",
      "alpha:   0.001 | train error: 57.685 | val error: 49.125 | test error: 53.848\n",
      "alpha:    0.01 | train error: 57.685 | val error:  49.15 | test error: 53.839\n",
      "alpha:     0.1 | train error: 57.726 | val error: 49.416 | test error: 53.787\n",
      "alpha:       1 | train error: 58.719 | val error: 51.569 | test error: 54.366\n",
      "alpha:      10 | train error: 61.878 | val error: 56.829 | test error: 56.352\n",
      "--------------------------------------------------------------------------------\n",
      "Lasso Regression Evaluation\n",
      "--------------------------------------------------------------------------------\n",
      "alpha:   0.001 | error: 23.312 |\n",
      "alpha:    0.01 | error: 23.327 |\n",
      "alpha:     0.1 | error: 23.78 |\n",
      "alpha:       1 | error: 25.891 |\n",
      "alpha:      10 | error: 25.909 |\n",
      "\n",
      "Lasso Regression Evaluation best alpha: 0.001\n",
      "--------------------------------------------------------------------------------\n"
     ]
    }
   ],
   "source": [
    "lr = linear_model.LinearRegression(fit_intercept=True)\n",
    "\n",
    "train_error, test_error = calc_metrics(X_train, y_train, X_test, y_test, lr)\n",
    "train_error, test_error = round(train_error, 3), round(test_error, 3)\n",
    "print(\"Linear Regression Evaluation\")\n",
    "print('train error: {} | test error: {}'.format(train_error, test_error))\n",
    "print('train/test: {}'.format(round(test_error/train_error, 1)))\n",
    "print('-'*80)\n",
    "\n",
    "## splitting traindata into train and validation\n",
    "X_train, X_validation, y_train, y_validation = train_test_split(X_train,\n",
    "                                                                y_train,\n",
    "                                                                shuffle=False,\n",
    "                                                                test_size=0.25,\n",
    "                                                                random_state=2018)\n",
    "# print('-'*80)\n",
    "\n",
    "print('train: {}% | validation: {}% | test {}%'.format(round(len(y_train)/len(Y),2),\n",
    "                                                       round(len(y_validation)/len(Y),2),\n",
    "                                                       round(len(y_test)/len(Y),2)))\n",
    "print('-'*80)\n",
    "\n",
    "alphas = [0.001, 0.01, 0.1, 1, 10]\n",
    "print('All errors are RMSE')\n",
    "print(\"Ridge regression Evaluation\")\n",
    "\n",
    "print('-'*80)\n",
    "for alpha in alphas:\n",
    "    ridge = Ridge(alpha=alpha, fit_intercept=True, random_state=99)\n",
    "    ridge.fit(X_train, y_train)\n",
    "    new_train_error = mean_squared_error(y_train, ridge.predict(X_train))\n",
    "    new_validation_error = mean_squared_error(y_validation, ridge.predict(X_validation))\n",
    "    new_test_error = mean_squared_error(y_test, ridge.predict(X_test))\n",
    "    print('alpha: {:7} | train error: {:5} | val error: {:6} | test error: {}'.\n",
    "          format(alpha,\n",
    "                 round(new_train_error,3),\n",
    "                 round(new_validation_error,3),\n",
    "                 round(new_test_error,3)))\n",
    "    \n",
    "print('-'*80)\n",
    "\n",
    "from sklearn.model_selection import cross_val_score\n",
    "\n",
    "# alphas = [1e-4, 1e-3, 1e-2, 1e-1, 1, 1e1]\n",
    "alphas = [0.001, 0.01, 0.1, 1, 10]\n",
    "print(\"Lasso Regression Evaluation\")\n",
    "print('-'*80)\n",
    "val_errors = []\n",
    "for alpha in alphas:\n",
    "    lasso = Lasso(alpha=alpha, fit_intercept=True, random_state=77)\n",
    "    errors = np.sum(-cross_val_score(lasso,X,y=Y, \n",
    "                                     scoring='neg_mean_squared_error', \n",
    "                                     cv=10, \n",
    "                                     n_jobs=-1))\n",
    "    val_errors.append(np.sqrt(errors))\n",
    "    print('alpha: {:7} | error: {:5} |'.\n",
    "          format(alpha,\n",
    "                 round(np.sqrt(errors),3),))\n",
    "print(\"\")\n",
    "# RMSE\n",
    "# print(val_errors)\n",
    "print('Lasso Regression Evaluation best alpha: {}'.format(alphas[np.argmin(val_errors)]))\n",
    "print('-'*80)"
   ]
  },
  {
   "cell_type": "code",
   "execution_count": 57,
   "metadata": {},
   "outputs": [],
   "source": [
    "\n",
    "from sklearn.model_selection import KFold\n",
    "\n",
    "# K = 10\n",
    "# kf = KFold(n_splits=K, shuffle=True, random_state=42)\n",
    "\n",
    "# for alpha in alphas:\n",
    "#     train_errors = []\n",
    "#     validation_errors = []\n",
    "#     for train_index, val_index in kf.split(X, Y):\n",
    "        \n",
    "#         # split data\n",
    "#         X_train, X_val = X[train_index], Y[val_index]\n",
    "#         y_train, y_val = X[train_index], Y[val_index]\n",
    "\n",
    "#         # instantiate model\n",
    "#         lasso = Lasso(alpha=alpha, fit_intercept=True, random_state=77)\n",
    "        \n",
    "#         #calculate errors\n",
    "#         train_error, val_error = calc_metrics(X_train, y_train, X_val, y_val, lasso)\n",
    "        \n",
    "#         # append to appropriate list\n",
    "#         train_errors.append(train_error)\n",
    "#         validation_errors.append(val_error)\n",
    "    \n",
    "#     # generate report\n",
    "#     print('alpha: {:6} | mean(train_error): {:7} | mean(val_error): {}'.\n",
    "#           format(alpha,\n",
    "#                  round(np.mean(train_errors),4),\n",
    "#                  round(np.mean(validation_errors),4)))"
   ]
  },
  {
   "cell_type": "code",
   "execution_count": 58,
   "metadata": {},
   "outputs": [
    {
     "name": "stdout",
     "output_type": "stream",
     "text": [
      "[0.23758248 0.22674635 0.25361444 0.3389987  0.31658736]\n"
     ]
    }
   ],
   "source": [
    "\n",
    "\n",
    "\n",
    "regr = linear_model.LinearRegression()\n",
    "model = regr.fit(X_train, y_train)\n",
    "\n",
    "print(model.predict(X_test)[0:5])"
   ]
  },
  {
   "cell_type": "code",
   "execution_count": 71,
   "metadata": {},
   "outputs": [
    {
     "name": "stdout",
     "output_type": "stream",
     "text": [
      "Coefficients: \n",
      " [-0.15536842  0.28683765  0.13864725  0.03523146 -0.11141234 -0.0131423\n",
      "  0.32600799]\n",
      "Mean squared error: 0.01\n",
      "Variance score: 0.14\n",
      "Accuracy metric: 1.0\n"
     ]
    }
   ],
   "source": [
    "\n",
    "validationdata.head()\n",
    "y_pred = regr.predict(X_test)\n",
    "\n",
    "\n",
    "print('Coefficients: \\n', regr.coef_)\n",
    "# The mean squared error\n",
    "print(\"Mean squared error: %.2f\"\n",
    "      % mean_squared_error(y_test, y_pred))\n",
    "# Explained variance score: 1 is perfect prediction\n",
    "print('Variance score: %.2f' % r2_score(y_test, y_pred))\n",
    "\n",
    "accuracy = regr.score(X_test, y_pred)\n",
    "print('Accuracy metric:', accuracy)\n",
    "# Plot outputs\n",
    "# plt.scatter(diabetes_X_test, diabetes_y_test,  color='black')\n",
    "# plt.plot(diabetes_X_test, diabetes_y_pred, color='blue', linewidth=3)\n",
    "\n",
    "# plt.xticks(())\n",
    "# plt.yticks(())\n",
    "\n",
    "# plt.show()\n",
    "\n",
    "# from sklearn.model_selection import KFold # import KFold\n",
    "\n",
    "# kf = KFold(n_splits=4) # Define the split - into 2 folds \n",
    "# kf.get_n_splits(x_test) # returns the number of splitting iterations in the cross-validator\n",
    "# print(kf) \n",
    "# # KFold(n_splits=2, random_state=None, shuffle=False)\n",
    "\n",
    "# for train_index, test_index in kf.split(X):\n",
    "    \n",
    "#     print(\"TRAIN:\", train_index, \"TEST:\", test_index)\n",
    "#     X_train, X_test = X[train_index], X[test_index]\n",
    "#     y_train, y_test = Y[train_index], Y[test_index]\n",
    "#     ('TRAIN:', array([2, 3]), 'TEST:', array([0, 1]))\n",
    "#     ('TRAIN:', array([0, 1]), 'TEST:', array([2, 3]))"
   ]
  },
  {
   "cell_type": "code",
   "execution_count": null,
   "metadata": {},
   "outputs": [],
   "source": []
  }
 ],
 "metadata": {
  "kernelspec": {
   "display_name": "Python 3",
   "language": "python",
   "name": "python3"
  },
  "language_info": {
   "codemirror_mode": {
    "name": "ipython",
    "version": 3
   },
   "file_extension": ".py",
   "mimetype": "text/x-python",
   "name": "python",
   "nbconvert_exporter": "python",
   "pygments_lexer": "ipython3",
   "version": "3.5.2"
  }
 },
 "nbformat": 4,
 "nbformat_minor": 2
}
